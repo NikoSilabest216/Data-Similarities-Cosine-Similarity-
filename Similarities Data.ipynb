{
 "cells": [
  {
   "cell_type": "code",
   "execution_count": 3,
   "metadata": {},
   "outputs": [],
   "source": [
    "#Library untuk manipulasi dataframe\n",
    "import pandas as pd\n",
    "#Fungsi matematika, kita hanya perlu fungsi sqrt jadi mari kita impor saja\n",
    "from math import sqrt\n",
    "import numpy as np\n",
    "import matplotlib.pyplot as plt\n",
    "%matplotlib inline"
   ]
  },
  {
   "cell_type": "code",
   "execution_count": 4,
   "metadata": {},
   "outputs": [
    {
     "data": {
      "text/html": [
       "<div>\n",
       "<style scoped>\n",
       "    .dataframe tbody tr th:only-of-type {\n",
       "        vertical-align: middle;\n",
       "    }\n",
       "\n",
       "    .dataframe tbody tr th {\n",
       "        vertical-align: top;\n",
       "    }\n",
       "\n",
       "    .dataframe thead th {\n",
       "        text-align: right;\n",
       "    }\n",
       "</style>\n",
       "<table border=\"1\" class=\"dataframe\">\n",
       "  <thead>\n",
       "    <tr style=\"text-align: right;\">\n",
       "      <th></th>\n",
       "      <th>MAL_ID</th>\n",
       "      <th>Name</th>\n",
       "      <th>Score</th>\n",
       "      <th>Genres</th>\n",
       "      <th>sypnopsis</th>\n",
       "    </tr>\n",
       "  </thead>\n",
       "  <tbody>\n",
       "    <tr>\n",
       "      <th>0</th>\n",
       "      <td>1</td>\n",
       "      <td>Cowboy Bebop</td>\n",
       "      <td>8.78</td>\n",
       "      <td>Action, Adventure, Comedy, Drama, Sci-Fi, Space</td>\n",
       "      <td>In the year 2071, humanity has colonized sever...</td>\n",
       "    </tr>\n",
       "    <tr>\n",
       "      <th>1</th>\n",
       "      <td>5</td>\n",
       "      <td>Cowboy Bebop: Tengoku no Tobira</td>\n",
       "      <td>8.39</td>\n",
       "      <td>Action, Drama, Mystery, Sci-Fi, Space</td>\n",
       "      <td>other day, another bounty—such is the life of ...</td>\n",
       "    </tr>\n",
       "    <tr>\n",
       "      <th>2</th>\n",
       "      <td>6</td>\n",
       "      <td>Trigun</td>\n",
       "      <td>8.24</td>\n",
       "      <td>Action, Sci-Fi, Adventure, Comedy, Drama, Shounen</td>\n",
       "      <td>Vash the Stampede is the man with a $$60,000,0...</td>\n",
       "    </tr>\n",
       "    <tr>\n",
       "      <th>3</th>\n",
       "      <td>7</td>\n",
       "      <td>Witch Hunter Robin</td>\n",
       "      <td>7.27</td>\n",
       "      <td>Action, Mystery, Police, Supernatural, Drama, ...</td>\n",
       "      <td>ches are individuals with special powers like ...</td>\n",
       "    </tr>\n",
       "    <tr>\n",
       "      <th>4</th>\n",
       "      <td>8</td>\n",
       "      <td>Bouken Ou Beet</td>\n",
       "      <td>6.98</td>\n",
       "      <td>Adventure, Fantasy, Shounen, Supernatural</td>\n",
       "      <td>It is the dark century and the people are suff...</td>\n",
       "    </tr>\n",
       "  </tbody>\n",
       "</table>\n",
       "</div>"
      ],
      "text/plain": [
       "   MAL_ID                             Name Score  \\\n",
       "0       1                     Cowboy Bebop  8.78   \n",
       "1       5  Cowboy Bebop: Tengoku no Tobira  8.39   \n",
       "2       6                           Trigun  8.24   \n",
       "3       7               Witch Hunter Robin  7.27   \n",
       "4       8                   Bouken Ou Beet  6.98   \n",
       "\n",
       "                                              Genres  \\\n",
       "0    Action, Adventure, Comedy, Drama, Sci-Fi, Space   \n",
       "1              Action, Drama, Mystery, Sci-Fi, Space   \n",
       "2  Action, Sci-Fi, Adventure, Comedy, Drama, Shounen   \n",
       "3  Action, Mystery, Police, Supernatural, Drama, ...   \n",
       "4          Adventure, Fantasy, Shounen, Supernatural   \n",
       "\n",
       "                                           sypnopsis  \n",
       "0  In the year 2071, humanity has colonized sever...  \n",
       "1  other day, another bounty—such is the life of ...  \n",
       "2  Vash the Stampede is the man with a $$60,000,0...  \n",
       "3  ches are individuals with special powers like ...  \n",
       "4  It is the dark century and the people are suff...  "
      ]
     },
     "execution_count": 4,
     "metadata": {},
     "output_type": "execute_result"
    }
   ],
   "source": [
    "df = pd.read_csv('anime_with_synopsis.csv')\n",
    "df.head(5)"
   ]
  },
  {
   "cell_type": "code",
   "execution_count": 5,
   "metadata": {},
   "outputs": [
    {
     "name": "stdout",
     "output_type": "stream",
     "text": [
      "MAL_ID       0\n",
      "Name         0\n",
      "Score        0\n",
      "Genres       0\n",
      "sypnopsis    8\n",
      "dtype: int64\n"
     ]
    }
   ],
   "source": [
    "jumlah_kosong_per_kolom = df.isna().sum()\n",
    "print(jumlah_kosong_per_kolom)"
   ]
  },
  {
   "cell_type": "code",
   "execution_count": 6,
   "metadata": {},
   "outputs": [
    {
     "name": "stdout",
     "output_type": "stream",
     "text": [
      "       MAL_ID                             Name    Score  \\\n",
      "0           1                     Cowboy Bebop     8.78   \n",
      "1           5  Cowboy Bebop: Tengoku no Tobira     8.39   \n",
      "2           6                           Trigun     8.24   \n",
      "3           7               Witch Hunter Robin     7.27   \n",
      "4           8                   Bouken Ou Beet     6.98   \n",
      "...       ...                              ...      ...   \n",
      "16209   48481  Daomu Biji Zhi Qinling Shen Shu  Unknown   \n",
      "16210   48483                     Mieruko-chan  Unknown   \n",
      "16211   48488  Higurashi no Naku Koro ni Sotsu  Unknown   \n",
      "16212   48491      Yama no Susume: Next Summit  Unknown   \n",
      "16213   48492                    Scarlet Nexus  Unknown   \n",
      "\n",
      "                                                  Genres  \\\n",
      "0        Action, Adventure, Comedy, Drama, Sci-Fi, Space   \n",
      "1                  Action, Drama, Mystery, Sci-Fi, Space   \n",
      "2      Action, Sci-Fi, Adventure, Comedy, Drama, Shounen   \n",
      "3      Action, Mystery, Police, Supernatural, Drama, ...   \n",
      "4              Adventure, Fantasy, Shounen, Supernatural   \n",
      "...                                                  ...   \n",
      "16209                   Adventure, Mystery, Supernatural   \n",
      "16210                       Comedy, Horror, Supernatural   \n",
      "16211  Mystery, Dementia, Horror, Psychological, Supe...   \n",
      "16212                   Adventure, Slice of Life, Comedy   \n",
      "16213                                    Action, Fantasy   \n",
      "\n",
      "                                               sypnopsis  \n",
      "0      In the year 2071, humanity has colonized sever...  \n",
      "1      other day, another bounty—such is the life of ...  \n",
      "2      Vash the Stampede is the man with a $$60,000,0...  \n",
      "3      ches are individuals with special powers like ...  \n",
      "4      It is the dark century and the people are suff...  \n",
      "...                                                  ...  \n",
      "16209  No synopsis information has been added to this...  \n",
      "16210  ko is a typical high school student whose life...  \n",
      "16211          Sequel to Higurashi no Naku Koro ni Gou .  \n",
      "16212                          New Yama no Susume anime.  \n",
      "16213  Solar calendar year 2020: grotesque organisms ...  \n",
      "\n",
      "[16206 rows x 5 columns]\n"
     ]
    }
   ],
   "source": [
    "# Menghapus baris yang mengandung data kosong\n",
    "df_cleaned = df.dropna()\n",
    "\n",
    "# Menampilkan DataFrame setelah data kosong dihapus\n",
    "print(df_cleaned)"
   ]
  },
  {
   "cell_type": "code",
   "execution_count": 7,
   "metadata": {},
   "outputs": [
    {
     "data": {
      "text/plain": [
       "MAL_ID       0\n",
       "Name         0\n",
       "Score        0\n",
       "Genres       0\n",
       "sypnopsis    0\n",
       "dtype: int64"
      ]
     },
     "execution_count": 7,
     "metadata": {},
     "output_type": "execute_result"
    }
   ],
   "source": [
    "df_cleaned.isna().sum()"
   ]
  },
  {
   "cell_type": "code",
   "execution_count": 8,
   "metadata": {},
   "outputs": [
    {
     "name": "stdout",
     "output_type": "stream",
     "text": [
      "[[0.31036127 0.34445181 0.         ... 0.         0.         0.        ]\n",
      " [0.29720298 0.         0.         ... 0.         0.         0.        ]\n",
      " [0.34219477 0.37978195 0.         ... 0.         0.         0.        ]\n",
      " ...\n",
      " [0.         0.         0.         ... 0.         0.         0.        ]\n",
      " [0.         0.42348562 0.         ... 0.         0.         0.        ]\n",
      " [0.68106111 0.         0.         ... 0.         0.         0.        ]]\n",
      "(16214, 46)\n"
     ]
    }
   ],
   "source": [
    "from sklearn.feature_extraction.text import TfidfVectorizer\n",
    "\n",
    "# Inisialisasi objek TfidfVectorizer\n",
    "vectorizer = TfidfVectorizer()\n",
    "\n",
    "# Melakukan ekstraksi fitur menggunakan TF-IDF\n",
    "features = vectorizer.fit_transform(df.Genres)\n",
    "\n",
    "# Menampilkan hasil ekstraksi fitur\n",
    "print(features.toarray())\n",
    "print(features.shape)"
   ]
  },
  {
   "cell_type": "code",
   "execution_count": 9,
   "metadata": {},
   "outputs": [
    {
     "name": "stdout",
     "output_type": "stream",
     "text": [
      "[[1.         0.78205726 0.74170397 ... 0.         0.22538012 0.21137499]\n",
      " [0.78205726 1.         0.51670652 ... 0.18244967 0.         0.20241339]\n",
      " [0.74170397 0.51670652 1.         ... 0.         0.24849717 0.23305555]\n",
      " ...\n",
      " [0.         0.18244967 0.         ... 1.         0.         0.        ]\n",
      " [0.22538012 0.         0.24849717 ... 0.         1.         0.        ]\n",
      " [0.21137499 0.20241339 0.23305555 ... 0.         0.         1.        ]]\n",
      "(16214, 16214)\n"
     ]
    }
   ],
   "source": [
    "from sklearn.metrics.pairwise import cosine_similarity\n",
    "\n",
    "# Menghitung cosine similarity antara dua vektor fitur\n",
    "similarity_matrix = cosine_similarity(features)\n",
    "\n",
    "# Menampilkan hasil cosine similarity\n",
    "print(similarity_matrix)\n",
    "print(similarity_matrix.shape)"
   ]
  },
  {
   "cell_type": "code",
   "execution_count": 13,
   "metadata": {},
   "outputs": [],
   "source": [
    "def anime_recomendation(title, cos_sim, data):\n",
    "    index = data[data['Name'] == title].index[0]\n",
    "    similar = list(enumerate(cos_sim[index]))\n",
    "    similar = sorted(similar, key=lambda x: x[1], reverse=True)\n",
    "    \n",
    "    # return top 5 of anime index include the title that inputed\n",
    "    return [i[0] for i in similar[0:6]]\n",
    "    "
   ]
  },
  {
   "cell_type": "code",
   "execution_count": 14,
   "metadata": {},
   "outputs": [],
   "source": [
    "df_recomendation = df[['Name', 'Genres']]"
   ]
  },
  {
   "cell_type": "code",
   "execution_count": 16,
   "metadata": {},
   "outputs": [
    {
     "name": "stdout",
     "output_type": "stream",
     "text": [
      "Top 5 Recomendation for Anime titled : Paprika\n"
     ]
    },
    {
     "data": {
      "text/html": [
       "<div>\n",
       "<style scoped>\n",
       "    .dataframe tbody tr th:only-of-type {\n",
       "        vertical-align: middle;\n",
       "    }\n",
       "\n",
       "    .dataframe tbody tr th {\n",
       "        vertical-align: top;\n",
       "    }\n",
       "\n",
       "    .dataframe thead th {\n",
       "        text-align: right;\n",
       "    }\n",
       "</style>\n",
       "<table border=\"1\" class=\"dataframe\">\n",
       "  <thead>\n",
       "    <tr style=\"text-align: right;\">\n",
       "      <th></th>\n",
       "      <th>Name</th>\n",
       "      <th>Genres</th>\n",
       "    </tr>\n",
       "  </thead>\n",
       "  <tbody>\n",
       "    <tr>\n",
       "      <th>1691</th>\n",
       "      <td>Paprika</td>\n",
       "      <td>Dementia, Fantasy, Horror, Mystery, Psychologi...</td>\n",
       "    </tr>\n",
       "    <tr>\n",
       "      <th>824</th>\n",
       "      <td>Higurashi no Naku Koro ni</td>\n",
       "      <td>Mystery, Dementia, Horror, Psychological, Supe...</td>\n",
       "    </tr>\n",
       "    <tr>\n",
       "      <th>15171</th>\n",
       "      <td>Higurashi no Naku Koro ni Gou</td>\n",
       "      <td>Mystery, Dementia, Horror, Psychological, Supe...</td>\n",
       "    </tr>\n",
       "    <tr>\n",
       "      <th>16211</th>\n",
       "      <td>Higurashi no Naku Koro ni Sotsu</td>\n",
       "      <td>Mystery, Dementia, Horror, Psychological, Supe...</td>\n",
       "    </tr>\n",
       "    <tr>\n",
       "      <th>13265</th>\n",
       "      <td>Yakusoku no Neverland</td>\n",
       "      <td>Sci-Fi, Mystery, Horror, Psychological, Thrill...</td>\n",
       "    </tr>\n",
       "    <tr>\n",
       "      <th>6598</th>\n",
       "      <td>Higurashi no Naku Koro ni Kaku: Outbreak</td>\n",
       "      <td>Mystery, Horror, Psychological, Thriller</td>\n",
       "    </tr>\n",
       "  </tbody>\n",
       "</table>\n",
       "</div>"
      ],
      "text/plain": [
       "                                           Name  \\\n",
       "1691                                    Paprika   \n",
       "824                   Higurashi no Naku Koro ni   \n",
       "15171             Higurashi no Naku Koro ni Gou   \n",
       "16211           Higurashi no Naku Koro ni Sotsu   \n",
       "13265                     Yakusoku no Neverland   \n",
       "6598   Higurashi no Naku Koro ni Kaku: Outbreak   \n",
       "\n",
       "                                                  Genres  \n",
       "1691   Dementia, Fantasy, Horror, Mystery, Psychologi...  \n",
       "824    Mystery, Dementia, Horror, Psychological, Supe...  \n",
       "15171  Mystery, Dementia, Horror, Psychological, Supe...  \n",
       "16211  Mystery, Dementia, Horror, Psychological, Supe...  \n",
       "13265  Sci-Fi, Mystery, Horror, Psychological, Thrill...  \n",
       "6598            Mystery, Horror, Psychological, Thriller  "
      ]
     },
     "execution_count": 16,
     "metadata": {},
     "output_type": "execute_result"
    }
   ],
   "source": [
    "title = 'Paprika'\n",
    "\n",
    "print(f\"Top 5 Recomendation for Anime titled : {title}\")\n",
    "df_recomendation.iloc[anime_recomendation(title, similarity_matrix, df)]\n"
   ]
  },
  {
   "cell_type": "code",
   "execution_count": 18,
   "metadata": {},
   "outputs": [
    {
     "name": "stdout",
     "output_type": "stream",
     "text": [
      "Judul anime dengan nilai kemiripan tertinggi:\n",
      "Higurashi no Naku Koro ni Gou\n",
      "Higurashi no Naku Koro ni Sotsu\n",
      "Higurashi no Naku Koro ni\n",
      "Yakusoku no Neverland\n",
      "Higurashi no Naku Koro ni Kaku: Outbreak\n"
     ]
    }
   ],
   "source": [
    "input_title = input(\"Masukkan judul anime: \")\n",
    "\n",
    "# Mencari indeks anime yang sesuai dengan input\n",
    "input_index = df[df[\"Name\"].str.lower() == input_title.lower()].index[0]\n",
    "\n",
    "# Menghitung similarity matrix\n",
    "similarity_matrix = cosine_similarity(features)\n",
    "\n",
    "# Mendapatkan nilai kemiripan untuk anime yang sesuai dengan input\n",
    "similarities = similarity_matrix[input_index]\n",
    "\n",
    "# Mengurutkan indeks berdasarkan nilai kemiripan (dari yang tertinggi)\n",
    "sorted_indices = similarities.argsort()[::-1]\n",
    "\n",
    "# Mengambil 5 judul anime dengan nilai kemiripan tertinggi (selain input)\n",
    "top_similar_anime_indices = sorted_indices[1:6]\n",
    "top_similar_anime_titles = df.loc[top_similar_anime_indices, \"Name\"]\n",
    "\n",
    "# Menampilkan judul anime dengan nilai kemiripan tertinggi\n",
    "print(\"Judul anime dengan nilai kemiripan tertinggi:\")\n",
    "for title in top_similar_anime_titles:\n",
    "    print(title)"
   ]
  }
 ],
 "metadata": {
  "kernelspec": {
   "display_name": "Python 3",
   "language": "python",
   "name": "python3"
  },
  "language_info": {
   "codemirror_mode": {
    "name": "ipython",
    "version": 3
   },
   "file_extension": ".py",
   "mimetype": "text/x-python",
   "name": "python",
   "nbconvert_exporter": "python",
   "pygments_lexer": "ipython3",
   "version": "3.10.9"
  },
  "orig_nbformat": 4
 },
 "nbformat": 4,
 "nbformat_minor": 2
}
